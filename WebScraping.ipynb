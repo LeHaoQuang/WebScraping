{
 "cells": [
  {
   "cell_type": "code",
   "execution_count": 2,
   "id": "3325c521",
   "metadata": {
    "tags": []
   },
   "outputs": [],
   "source": [
    "#!pip install selenium==3.141.0\n",
    "#!pip install webdriver-manager\n",
    "#!pip install PyAutoGUI\n",
    "\n",
    "# Find the executable path\n",
    "# import os\n",
    "# import sys\n",
    "# os.path.dirname(sys.executable)"
   ]
  },
  {
   "cell_type": "code",
   "execution_count": 1,
   "id": "157e010a",
   "metadata": {
    "tags": []
   },
   "outputs": [],
   "source": [
    "import pyautogui\n",
    "import time\n",
    "from selenium import webdriver\n",
    "from selenium.webdriver.common.by import By\n",
    "from selenium.webdriver.support.ui import WebDriverWait\n",
    "from selenium.webdriver.support import expected_conditions as EC\n",
    "from selenium.webdriver.support.select import Select\n",
    "from datetime import timedelta, datetime"
   ]
  },
  {
   "cell_type": "code",
   "execution_count": 3,
   "id": "b910088d",
   "metadata": {
    "tags": []
   },
   "outputs": [],
   "source": [
    "from selenium import webdriver\n",
    "from webdriver_manager.chrome import ChromeDriverManager\n",
    "#Install Driver\n",
    "opts=webdriver.ChromeOptions()\n",
    "opts.headless=False\n",
    "opts.add_argument(\"--incognito\")\n",
    "#CHROME CHAY O BACKGROUND = FALSE\n",
    "driver = webdriver.Chrome(ChromeDriverManager().install() ,options=opts)"
   ]
  },
  {
   "cell_type": "code",
   "execution_count": 4,
   "id": "ab934649",
   "metadata": {
    "tags": []
   },
   "outputs": [],
   "source": [
    "#Go to the website\n",
    "driver.get('https://fa-esbv-saasfaprod1.fa.ocs.oraclecloud.com/analytics/saw.dll?Portal&PortalPath=%2Fshared%2FCustom%2F_portal%2FDistribution%20Details%20By%20Account')\n",
    "\n",
    "#Wait until website is ready\n",
    "WebDriverWait(driver, 120).until(EC.presence_of_element_located((By.ID, \"ssoBtn\")))\n",
    "\n",
    "#Log in\n",
    "driver.find_element_by_xpath(\"//*[@id='ssoBtn']\").click()"
   ]
  },
  {
   "cell_type": "code",
   "execution_count": 5,
   "id": "580b92e5",
   "metadata": {
    "tags": []
   },
   "outputs": [
    {
     "data": {
      "text/plain": [
       "<selenium.webdriver.remote.webelement.WebElement (session=\"e32f367304692a32bb6f110c5ae6a19d\", element=\"CA6F29ADD940A6DAD4F1EE4F727C577C_element_13\")>"
      ]
     },
     "execution_count": 5,
     "metadata": {},
     "output_type": "execute_result"
    }
   ],
   "source": [
    "#Wait until website is ready\n",
    "WebDriverWait(driver, 120).until(EC.presence_of_element_located((By.ID, \"okta-signin-username\")))\n",
    "\n",
    "#Enter credential and click sigh in\n",
    "driver.find_element_by_xpath(\"//*[@id='okta-signin-username']\").send_keys('fs132963')\n",
    "driver.find_element_by_xpath(\"//*[@id='okta-signin-password']\").send_keys('thuy.12.23')\n",
    "\n",
    "#sign in and wait system to load\n",
    "driver.find_element_by_xpath(\"//*[@id='okta-signin-submit']\").click()\n",
    "\n",
    "WebDriverWait(driver, 20).until(EC.presence_of_element_located((By.CLASS_NAME, \"masterCustomDropDown\")))"
   ]
  },
  {
   "cell_type": "code",
   "execution_count": 16,
   "id": "e9eb357e",
   "metadata": {},
   "outputs": [
    {
     "data": {
      "text/plain": [
       "('12-13-2023', '12-20-2023', '12-20-2023')"
      ]
     },
     "execution_count": 16,
     "metadata": {},
     "output_type": "execute_result"
    }
   ],
   "source": [
    "today = datetime.now()\n",
    "\n",
    "days = 7\n",
    "GL_Start = today - timedelta(days)\n",
    "# GL_Start = today.replace(day=1)\n",
    "\n",
    "GL_Start = GL_Start.strftime(\"%m-%d-%Y\")\n",
    "GL_End = today.strftime(\"%m-%d-%Y\")\n",
    "Trans_End = GL_End\n",
    "GL_Start, GL_End, Trans_End"
   ]
  },
  {
   "cell_type": "code",
   "execution_count": 7,
   "id": "cecc18af",
   "metadata": {},
   "outputs": [
    {
     "data": {
      "text/plain": [
       "('12-01-2023 12:00:00 AM', '12-20-2023 11:59:59 PM', '12-20-2023')"
      ]
     },
     "execution_count": 7,
     "metadata": {},
     "output_type": "execute_result"
    }
   ],
   "source": [
    "#Variable cost\n",
    "GL_Account = [\"3101-003-000-500040-000-0000-0000-0000\", \n",
    "              \"3101-003-000-500010-000-0000-0000-0000\", \n",
    "              \"3101-003-000-533010-000-0000-0000-0000\"]\n",
    "\n",
    "Cost_Org = \"VN Cost Org\"\n",
    "Cost_Book = \"Primary\"\n",
    "Trans_Start = \"07/22/2023\"\n",
    "GL_Start = GL_Start + \" 12:00:00 AM\"\n",
    "GL_End = GL_End + \" 11:59:59 PM\"\n",
    "GL_Start, GL_End, Trans_End"
   ]
  },
  {
   "cell_type": "code",
   "execution_count": 11,
   "id": "6d751873",
   "metadata": {},
   "outputs": [
    {
     "ename": "IndexError",
     "evalue": "list index out of range",
     "output_type": "error",
     "traceback": [
      "\u001b[1;31m---------------------------------------------------------------------------\u001b[0m",
      "\u001b[1;31mIndexError\u001b[0m                                Traceback (most recent call last)",
      "Cell \u001b[1;32mIn[11], line 38\u001b[0m\n\u001b[0;32m     35\u001b[0m     WebDriverWait(driver, \u001b[38;5;241m120\u001b[39m)\u001b[38;5;241m.\u001b[39muntil(EC\u001b[38;5;241m.\u001b[39mpresence_of_element_located((By\u001b[38;5;241m.\u001b[39mCLASS_NAME, \u001b[38;5;124m\"\u001b[39m\u001b[38;5;124mPTPHLC\u001b[39m\u001b[38;5;124m\"\u001b[39m)))\n\u001b[0;32m     37\u001b[0m \u001b[38;5;66;03m#Export data and close pop up window\u001b[39;00m\n\u001b[1;32m---> 38\u001b[0m \u001b[43mdriver\u001b[49m\u001b[38;5;241;43m.\u001b[39;49m\u001b[43mfind_elements_by_xpath\u001b[49m\u001b[43m(\u001b[49m\u001b[38;5;124;43m\"\u001b[39;49m\u001b[38;5;124;43m//td[contains(@class, \u001b[39;49m\u001b[38;5;124;43m'\u001b[39;49m\u001b[38;5;124;43mResultLinksCell\u001b[39;49m\u001b[38;5;124;43m'\u001b[39;49m\u001b[38;5;124;43m)]\u001b[39;49m\u001b[38;5;124;43m\"\u001b[39;49m\u001b[43m)\u001b[49m\u001b[43m[\u001b[49m\u001b[38;5;241;43m3\u001b[39;49m\u001b[43m]\u001b[49m\u001b[38;5;241m.\u001b[39mclick()\n\u001b[0;32m     39\u001b[0m driver\u001b[38;5;241m.\u001b[39mfind_element_by_xpath(\u001b[38;5;124m\"\u001b[39m\u001b[38;5;124m/html/body/div[9]/table/tbody/tr[1]/td[1]/a[2]/table/tbody/tr/td[2]\u001b[39m\u001b[38;5;124m\"\u001b[39m)\u001b[38;5;241m.\u001b[39mclick()\n\u001b[0;32m     40\u001b[0m driver\u001b[38;5;241m.\u001b[39mfind_element_by_xpath(\u001b[38;5;124m\"\u001b[39m\u001b[38;5;124m/html/body/div[10]/table/tbody/tr[1]/td[1]/a[2]/table/tbody/tr/td[2]\u001b[39m\u001b[38;5;124m\"\u001b[39m)\u001b[38;5;241m.\u001b[39mclick()\n",
      "\u001b[1;31mIndexError\u001b[0m: list index out of range"
     ]
    }
   ],
   "source": [
    "#Loop through each GL account\n",
    "for i, gl in enumerate (GL_Account):\n",
    "    \n",
    "    #Filter data\n",
    "    driver.find_elements_by_xpath(\"//div[contains(@class, 'masterCustomDropDown')]\")[0].find_element_by_xpath(\".//input\").clear()\n",
    "    driver.find_elements_by_xpath(\"//div[contains(@class, 'masterCustomDropDown')]\")[0].find_element_by_xpath(\".//input\").send_keys(gl)\n",
    "    \n",
    "    driver.find_elements_by_xpath(\"//div[contains(@class, 'masterCustomDropDown')]\")[2].find_element_by_xpath(\".//input\").clear()\n",
    "    driver.find_elements_by_xpath(\"//div[contains(@class, 'masterCustomDropDown')]\")[2].find_element_by_xpath(\".//input\").send_keys(Cost_Org)\n",
    "    \n",
    "    driver.find_elements_by_xpath(\"//div[contains(@class, 'masterCustomDropDown')]\")[3].find_element_by_xpath(\".//input\").clear()\n",
    "    driver.find_elements_by_xpath(\"//div[contains(@class, 'masterCustomDropDown')]\")[3].find_element_by_xpath(\".//input\").send_keys(Cost_Book)\n",
    "\n",
    "    driver.find_elements_by_xpath(\"//td[contains(@class, 'promptControl')]\")[-4].find_element_by_xpath(\".//input\").clear()\n",
    "    driver.find_elements_by_xpath(\"//td[contains(@class, 'promptControl')]\")[-4].find_element_by_xpath(\".//input\").send_keys(GL_Start)\n",
    "\n",
    "    driver.find_elements_by_xpath(\"//td[contains(@class, 'promptControl')]\")[-3].find_element_by_xpath(\".//input\").clear()\n",
    "    driver.find_elements_by_xpath(\"//td[contains(@class, 'promptControl')]\")[-3].find_element_by_xpath(\".//input\").send_keys(GL_End)\n",
    "\n",
    "    driver.find_elements_by_xpath(\"//td[contains(@class, 'promptControl')]\")[-2].find_element_by_xpath(\".//input\").clear()\n",
    "    driver.find_elements_by_xpath(\"//td[contains(@class, 'promptControl')]\")[-2].find_element_by_xpath(\".//input\").send_keys(Trans_Start)\n",
    "\n",
    "    driver.find_elements_by_xpath(\"//td[contains(@class, 'promptControl')]\")[-1].find_element_by_xpath(\".//input\").clear()\n",
    "    driver.find_elements_by_xpath(\"//td[contains(@class, 'promptControl')]\")[-1].find_element_by_xpath(\".//input\").send_keys(Trans_End)\n",
    "    \n",
    "    #click apply to get data\n",
    "    driver.find_element_by_xpath(\"//*[@id='gobtn']\").click()\n",
    "\n",
    "    #wait for data to be loaded\n",
    "    if i = 0:\n",
    "        time.sleep(30)\n",
    "    else if i = 1:\n",
    "        time.sleep(300)\n",
    "    else:\n",
    "        time.sleep(200)\n",
    "\n",
    "    if driver.find_elements_by_xpath(\"//td[contains(@class, 'ErrorTitle')]\"):\n",
    "        #Refresh to make sure data is in place\n",
    "        driver.find_element_by_xpath(\"//*[@id='d:dashboard~p:q6eqf2tf9h9uujvq~r:n10o7jmv6q6scossLinks']/tbody/tr/td[1]/a\").click()\n",
    "        WebDriverWait(driver, 120).until(EC.presence_of_element_located((By.CLASS_NAME, \"PTPHLC\")))\n",
    "        \n",
    "    #Export data and close pop up window\n",
    "    driver.find_elements_by_xpath(\"//td[contains(@class, 'ResultLinksCell')]\")[3].click()\n",
    "    driver.find_element_by_xpath(\"/html/body/div[9]/table/tbody/tr[1]/td[1]/a[2]/table/tbody/tr/td[2]\").click()\n",
    "    driver.find_element_by_xpath(\"/html/body/div[10]/table/tbody/tr[1]/td[1]/a[2]/table/tbody/tr/td[2]\").click()\n",
    "    \n",
    "    #wait for exporting\n",
    "    time.sleep(30)\n",
    "    \n",
    "    #save data\n",
    "    pyautogui.press('enter')\n",
    "    \n",
    "    #close pop-up window\n",
    "    driver.find_elements_by_xpath(\"//td[contains(@class, 'dialogCloseIcon')]\")[0].click()"
   ]
  },
  {
   "cell_type": "code",
   "execution_count": null,
   "id": "094f4cc0",
   "metadata": {},
   "outputs": [],
   "source": [
    "driver.quit()"
   ]
  },
  {
   "cell_type": "code",
   "execution_count": 43,
   "id": "06402082",
   "metadata": {},
   "outputs": [],
   "source": [
    "import pandas as pd\n",
    "import numpy as np\n",
    "import os\n",
    "import warnings\n",
    "warnings.filterwarnings(\"ignore\")"
   ]
  },
  {
   "cell_type": "code",
   "execution_count": 25,
   "id": "fe9f9f4a",
   "metadata": {},
   "outputs": [
    {
     "data": {
      "text/plain": [
       "['Distribution Details by Account Report.csv']"
      ]
     },
     "execution_count": 25,
     "metadata": {},
     "output_type": "execute_result"
    }
   ],
   "source": [
    "folder_path = 'C:\\\\Users\\\\fs132963\\\\Downloads'\n",
    "list_file = os.listdir(folder_path)\n",
    "\n",
    "files = []\n",
    "for filename in list_file:\n",
    "    if filename.find(\"Distribution Details by Account Report\") != -1:\n",
    "        files.append(filename)\n",
    "\n",
    "files"
   ]
  },
  {
   "cell_type": "code",
   "execution_count": 28,
   "id": "9428bb56",
   "metadata": {},
   "outputs": [],
   "source": [
    "df = pd.DataFrame({})\n",
    "for file in files:\n",
    "    df_temp = pd.read_csv(os.path.join(folder_path, file))\n",
    "    df = pd.concat([df, df_temp])"
   ]
  },
  {
   "cell_type": "code",
   "execution_count": 31,
   "id": "dc93f7f3",
   "metadata": {},
   "outputs": [
    {
     "data": {
      "text/plain": [
       "Index(['GL Account', 'Cost Organization', 'Cost Book', 'Transaction No',\n",
       "       'Transaction Date', 'Reference Type', 'Reference Document', 'Flow Type',\n",
       "       'Consigned', 'In Transit', 'Inventory Organization', 'Item',\n",
       "       'Item Description', 'Resource', 'Resource Description',\n",
       "       'Transaction Type', 'Quantity', 'UOM', 'Status', 'Accounting Status',\n",
       "       'Event Type', 'Accounting Date', 'GL Transfer Status', 'GL Batch',\n",
       "       'Credit', 'Debit', 'Currency', 'Cost Transaction Id'],\n",
       "      dtype='object')"
      ]
     },
     "execution_count": 31,
     "metadata": {},
     "output_type": "execute_result"
    }
   ],
   "source": [
    "df.columns"
   ]
  },
  {
   "cell_type": "code",
   "execution_count": 32,
   "id": "04963dd3",
   "metadata": {},
   "outputs": [],
   "source": [
    "list_columns = ['GL Account', 'Cost Organization', 'Cost Book', 'Transaction No', 'Transaction Date', 'Inventory Organization', \n",
    "                'Item', 'Item Description','Transaction Type', 'Quantity', 'Accounting Date','Credit', 'Debit', 'Currency', \n",
    "                'Cost Transaction Id']"
   ]
  },
  {
   "cell_type": "code",
   "execution_count": 44,
   "id": "85a9ff4c",
   "metadata": {},
   "outputs": [],
   "source": [
    "df_removedColumns = df[list_columns]\n",
    "df_removedColumns['Credit'] = df_removedColumns['Credit'].replace({np.nan:0})\n",
    "df_removedColumns['Amount'] = df_removedColumns['Debit'] - df_removedColumns['Credit']"
   ]
  },
  {
   "cell_type": "code",
   "execution_count": 45,
   "id": "1b3bd4c9",
   "metadata": {},
   "outputs": [
    {
     "data": {
      "text/html": [
       "<div>\n",
       "<style scoped>\n",
       "    .dataframe tbody tr th:only-of-type {\n",
       "        vertical-align: middle;\n",
       "    }\n",
       "\n",
       "    .dataframe tbody tr th {\n",
       "        vertical-align: top;\n",
       "    }\n",
       "\n",
       "    .dataframe thead th {\n",
       "        text-align: right;\n",
       "    }\n",
       "</style>\n",
       "<table border=\"1\" class=\"dataframe\">\n",
       "  <thead>\n",
       "    <tr style=\"text-align: right;\">\n",
       "      <th></th>\n",
       "      <th>GL Account</th>\n",
       "      <th>Cost Organization</th>\n",
       "      <th>Cost Book</th>\n",
       "      <th>Transaction No</th>\n",
       "      <th>Transaction Date</th>\n",
       "      <th>Inventory Organization</th>\n",
       "      <th>Item</th>\n",
       "      <th>Item Description</th>\n",
       "      <th>Transaction Type</th>\n",
       "      <th>Quantity</th>\n",
       "      <th>Accounting Date</th>\n",
       "      <th>Credit</th>\n",
       "      <th>Debit</th>\n",
       "      <th>Currency</th>\n",
       "      <th>Cost Transaction Id</th>\n",
       "      <th>Amount</th>\n",
       "    </tr>\n",
       "  </thead>\n",
       "  <tbody>\n",
       "    <tr>\n",
       "      <th>0</th>\n",
       "      <td>3101-003-000-500040-000-0000-0000-0000</td>\n",
       "      <td>VN Cost Org</td>\n",
       "      <td>Primary</td>\n",
       "      <td>WO-25024274</td>\n",
       "      <td>2023-10-31 16:07:44</td>\n",
       "      <td>DMM1 Vietnam Maintenance</td>\n",
       "      <td>30000083</td>\n",
       "      <td>PAPER,CERAMIC</td>\n",
       "      <td>Work in Process Material Issue</td>\n",
       "      <td>-36</td>\n",
       "      <td>2023-10-31</td>\n",
       "      <td>0.0</td>\n",
       "      <td>48.48</td>\n",
       "      <td>USD</td>\n",
       "      <td>20524299</td>\n",
       "      <td>48.48</td>\n",
       "    </tr>\n",
       "    <tr>\n",
       "      <th>1</th>\n",
       "      <td>3101-003-000-500040-000-0000-0000-0000</td>\n",
       "      <td>VN Cost Org</td>\n",
       "      <td>Primary</td>\n",
       "      <td>WO-25024274</td>\n",
       "      <td>2023-10-31 16:07:44</td>\n",
       "      <td>DMM1 Vietnam Maintenance</td>\n",
       "      <td>30000083</td>\n",
       "      <td>PAPER,CERAMIC</td>\n",
       "      <td>Work in Process Material Issue</td>\n",
       "      <td>-36</td>\n",
       "      <td>2023-10-31</td>\n",
       "      <td>0.0</td>\n",
       "      <td>242.40</td>\n",
       "      <td>USD</td>\n",
       "      <td>20524299</td>\n",
       "      <td>242.40</td>\n",
       "    </tr>\n",
       "    <tr>\n",
       "      <th>2</th>\n",
       "      <td>3101-003-000-500040-000-0000-0000-0000</td>\n",
       "      <td>VN Cost Org</td>\n",
       "      <td>Primary</td>\n",
       "      <td>WO-25024275</td>\n",
       "      <td>2023-10-31 16:07:44</td>\n",
       "      <td>DMM1 Vietnam Maintenance</td>\n",
       "      <td>30002415</td>\n",
       "      <td>Mullite Tube,CdTe,OBE S6 VAP 85mmx75mm</td>\n",
       "      <td>Work in Process Material Issue</td>\n",
       "      <td>-20</td>\n",
       "      <td>2023-10-31</td>\n",
       "      <td>0.0</td>\n",
       "      <td>8652.00</td>\n",
       "      <td>USD</td>\n",
       "      <td>20524300</td>\n",
       "      <td>8652.00</td>\n",
       "    </tr>\n",
       "    <tr>\n",
       "      <th>3</th>\n",
       "      <td>3101-003-000-500040-000-0000-0000-0000</td>\n",
       "      <td>VN Cost Org</td>\n",
       "      <td>Primary</td>\n",
       "      <td>WO-25024276</td>\n",
       "      <td>2023-10-31 16:07:44</td>\n",
       "      <td>DMM1 Vietnam Maintenance</td>\n",
       "      <td>30002421</td>\n",
       "      <td>SiC Heating Element,NCE G4S6 50mm OD</td>\n",
       "      <td>Work in Process Material Issue</td>\n",
       "      <td>-20</td>\n",
       "      <td>2023-10-31</td>\n",
       "      <td>0.0</td>\n",
       "      <td>30093.00</td>\n",
       "      <td>USD</td>\n",
       "      <td>20524301</td>\n",
       "      <td>30093.00</td>\n",
       "    </tr>\n",
       "    <tr>\n",
       "      <th>4</th>\n",
       "      <td>3101-003-000-500040-000-0000-0000-0000</td>\n",
       "      <td>VN Cost Org</td>\n",
       "      <td>Primary</td>\n",
       "      <td>WO-25024277</td>\n",
       "      <td>2023-10-31 16:07:44</td>\n",
       "      <td>DMM1 Vietnam Maintenance</td>\n",
       "      <td>30002453</td>\n",
       "      <td>Power Strap,S6 Al Braided Strap Vap 18\\\"</td>\n",
       "      <td>Work in Process Material Issue</td>\n",
       "      <td>-10</td>\n",
       "      <td>2023-10-31</td>\n",
       "      <td>0.0</td>\n",
       "      <td>151.20</td>\n",
       "      <td>USD</td>\n",
       "      <td>20524302</td>\n",
       "      <td>151.20</td>\n",
       "    </tr>\n",
       "  </tbody>\n",
       "</table>\n",
       "</div>"
      ],
      "text/plain": [
       "                               GL Account Cost Organization Cost Book  \\\n",
       "0  3101-003-000-500040-000-0000-0000-0000       VN Cost Org   Primary   \n",
       "1  3101-003-000-500040-000-0000-0000-0000       VN Cost Org   Primary   \n",
       "2  3101-003-000-500040-000-0000-0000-0000       VN Cost Org   Primary   \n",
       "3  3101-003-000-500040-000-0000-0000-0000       VN Cost Org   Primary   \n",
       "4  3101-003-000-500040-000-0000-0000-0000       VN Cost Org   Primary   \n",
       "\n",
       "  Transaction No     Transaction Date    Inventory Organization      Item  \\\n",
       "0    WO-25024274  2023-10-31 16:07:44  DMM1 Vietnam Maintenance  30000083   \n",
       "1    WO-25024274  2023-10-31 16:07:44  DMM1 Vietnam Maintenance  30000083   \n",
       "2    WO-25024275  2023-10-31 16:07:44  DMM1 Vietnam Maintenance  30002415   \n",
       "3    WO-25024276  2023-10-31 16:07:44  DMM1 Vietnam Maintenance  30002421   \n",
       "4    WO-25024277  2023-10-31 16:07:44  DMM1 Vietnam Maintenance  30002453   \n",
       "\n",
       "                           Item Description                Transaction Type  \\\n",
       "0                             PAPER,CERAMIC  Work in Process Material Issue   \n",
       "1                             PAPER,CERAMIC  Work in Process Material Issue   \n",
       "2    Mullite Tube,CdTe,OBE S6 VAP 85mmx75mm  Work in Process Material Issue   \n",
       "3      SiC Heating Element,NCE G4S6 50mm OD  Work in Process Material Issue   \n",
       "4  Power Strap,S6 Al Braided Strap Vap 18\\\"  Work in Process Material Issue   \n",
       "\n",
       "   Quantity Accounting Date  Credit     Debit Currency  Cost Transaction Id  \\\n",
       "0       -36      2023-10-31     0.0     48.48      USD             20524299   \n",
       "1       -36      2023-10-31     0.0    242.40      USD             20524299   \n",
       "2       -20      2023-10-31     0.0   8652.00      USD             20524300   \n",
       "3       -20      2023-10-31     0.0  30093.00      USD             20524301   \n",
       "4       -10      2023-10-31     0.0    151.20      USD             20524302   \n",
       "\n",
       "     Amount  \n",
       "0     48.48  \n",
       "1    242.40  \n",
       "2   8652.00  \n",
       "3  30093.00  \n",
       "4    151.20  "
      ]
     },
     "execution_count": 45,
     "metadata": {},
     "output_type": "execute_result"
    }
   ],
   "source": [
    "df_removedColumns.head()"
   ]
  }
 ],
 "metadata": {
  "kernelspec": {
   "display_name": "Python 3 (ipykernel)",
   "language": "python",
   "name": "python3"
  },
  "language_info": {
   "codemirror_mode": {
    "name": "ipython",
    "version": 3
   },
   "file_extension": ".py",
   "mimetype": "text/x-python",
   "name": "python",
   "nbconvert_exporter": "python",
   "pygments_lexer": "ipython3",
   "version": "3.11.5"
  }
 },
 "nbformat": 4,
 "nbformat_minor": 5
}
